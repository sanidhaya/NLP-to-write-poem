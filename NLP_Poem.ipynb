{
  "nbformat": 4,
  "nbformat_minor": 0,
  "metadata": {
    "colab": {
      "provenance": []
    },
    "kernelspec": {
      "name": "python3",
      "display_name": "Python 3"
    },
    "language_info": {
      "name": "python"
    },
    "accelerator": "GPU",
    "gpuClass": "standard"
  },
  "cells": [
    {
      "cell_type": "code",
      "execution_count": 1,
      "metadata": {
        "id": "KhKFl1LR1jBm"
      },
      "outputs": [],
      "source": [
        "import tensorflow as tf\n",
        "from tensorflow.keras.preprocessing.sequence import pad_sequences\n",
        "from tensorflow.keras.layers import Embedding,LSTM,Dense,Bidirectional,GRU\n",
        "from tensorflow.keras.models import Sequential\n",
        "from tensorflow.keras.optimizers import Adam\n",
        "import numpy as np\n",
        "\n",
        "     "
      ]
    },
    {
      "cell_type": "code",
      "source": [
        "!gdown --id 15UqmiIm0xwh9mt0IYq2z3jHaauxQSTQT\n"
      ],
      "metadata": {
        "colab": {
          "base_uri": "https://localhost:8080/"
        },
        "id": "L4FAJoGy1ydS",
        "outputId": "cf85efd3-762f-4e5a-c59f-40d515de1022"
      },
      "execution_count": 2,
      "outputs": [
        {
          "output_type": "stream",
          "name": "stdout",
          "text": [
            "/usr/local/lib/python3.9/dist-packages/gdown/cli.py:121: FutureWarning: Option `--id` was deprecated in version 4.3.1 and will be removed in 5.0. You don't need to pass it anymore to use a file ID.\n",
            "  warnings.warn(\n",
            "Downloading...\n",
            "From: https://drive.google.com/uc?id=15UqmiIm0xwh9mt0IYq2z3jHaauxQSTQT\n",
            "To: /content/irish-lyrics-eof.txt\n",
            "100% 69.0k/69.0k [00:00<00:00, 66.2MB/s]\n"
          ]
        }
      ]
    },
    {
      "cell_type": "code",
      "source": [
        "from tensorflow.keras.preprocessing.text import Tokenizer\n",
        "\n",
        "tokenizer = Tokenizer()\n",
        "\n",
        "data = open('./irish-lyrics-eof.txt').read()"
      ],
      "metadata": {
        "id": "_w8xfPZT10yY"
      },
      "execution_count": 3,
      "outputs": []
    },
    {
      "cell_type": "code",
      "source": [
        "\n",
        "corpus = data.lower().split(\"\\n\")\n",
        "\n",
        "tokenizer.fit_on_texts(corpus)\n",
        "total_words = len(tokenizer.word_index) + 1"
      ],
      "metadata": {
        "id": "QgLRcJ8I13tq"
      },
      "execution_count": 4,
      "outputs": []
    },
    {
      "cell_type": "code",
      "source": [
        "input_sequences = []\n",
        "for line in corpus:\n",
        "  token_list = tokenizer.texts_to_sequences([line])[0]\n",
        "  for i in range(1, len(token_list)):\n",
        "    n_gram_sequence = token_list[:i+1]\n",
        "    input_sequences.append(n_gram_sequence)"
      ],
      "metadata": {
        "id": "zSWKWFXq18Bl"
      },
      "execution_count": 5,
      "outputs": []
    },
    {
      "cell_type": "code",
      "source": [
        "max_sequence_len = max([len(x) for x in input_sequences])\n",
        "input_sequences = np.array(pad_sequences(input_sequences, maxlen =max_sequence_len, padding = 'pre'))\n",
        "\n",
        "##create predictors and label\n",
        "xs, labels = input_sequences[:,:-1], input_sequences[:,-1]\n",
        "\n",
        "ys = tf.keras.utils.to_categorical(labels, num_classes = total_words)\n",
        "     "
      ],
      "metadata": {
        "id": "kfLnw9Ud2DLT"
      },
      "execution_count": 6,
      "outputs": []
    },
    {
      "cell_type": "code",
      "source": [
        "model = Sequential()\n",
        "model.add(Embedding(total_words, 100, input_length=max_sequence_len-1))\n",
        "##model.add(Bidirectional(LSTM(1024, return_sequences=True)))\n",
        "##model.add(Bidirectional(GRU(512, return_sequences=True)))\n",
        "##model.add(Bidirectional(LSTM(512,return_sequences=True)))\n",
        "##model.add(Bidirectional(GRU(256, return_sequences = True)))\n",
        "##model.add(Bidirectional(LSTM(256, return_sequences= True)))\n",
        "model.add(Bidirectional(GRU(128, return_sequences=True)))\n",
        "model.add(Bidirectional(LSTM(128,return_sequences=True)))\n",
        "model.add(Bidirectional(GRU(64,return_sequences = True)))\n",
        "model.add(Bidirectional(LSTM(64,return_sequences=True)))\n",
        "model.add(Bidirectional(GRU(32)))\n",
        "model.add(Dense(total_words, activation = 'leaky_relu'))\n",
        "model.add(Dense(total_words,activation = 'sigmoid'))\n",
        "adam = Adam(lr = 0.005)\n",
        "model.compile(loss='categorical_crossentropy', optimizer=adam, metrics=['accuracy'])\n",
        "model.summary()\n",
        "     "
      ],
      "metadata": {
        "colab": {
          "base_uri": "https://localhost:8080/"
        },
        "id": "m2rWFGCa2F-c",
        "outputId": "805ab997-9945-4bb8-9c6e-c45c4161d42b"
      },
      "execution_count": 7,
      "outputs": [
        {
          "output_type": "stream",
          "name": "stderr",
          "text": [
            "WARNING:absl:`lr` is deprecated in Keras optimizer, please use `learning_rate` or use the legacy optimizer, e.g.,tf.keras.optimizers.legacy.Adam.\n"
          ]
        },
        {
          "output_type": "stream",
          "name": "stdout",
          "text": [
            "Model: \"sequential\"\n",
            "_________________________________________________________________\n",
            " Layer (type)                Output Shape              Param #   \n",
            "=================================================================\n",
            " embedding (Embedding)       (None, 15, 100)           269000    \n",
            "                                                                 \n",
            " bidirectional (Bidirectiona  (None, 15, 256)          176640    \n",
            " l)                                                              \n",
            "                                                                 \n",
            " bidirectional_1 (Bidirectio  (None, 15, 256)          394240    \n",
            " nal)                                                            \n",
            "                                                                 \n",
            " bidirectional_2 (Bidirectio  (None, 15, 128)          123648    \n",
            " nal)                                                            \n",
            "                                                                 \n",
            " bidirectional_3 (Bidirectio  (None, 15, 128)          98816     \n",
            " nal)                                                            \n",
            "                                                                 \n",
            " bidirectional_4 (Bidirectio  (None, 64)               31104     \n",
            " nal)                                                            \n",
            "                                                                 \n",
            " dense (Dense)               (None, 2690)              174850    \n",
            "                                                                 \n",
            " dense_1 (Dense)             (None, 2690)              7238790   \n",
            "                                                                 \n",
            "=================================================================\n",
            "Total params: 8,507,088\n",
            "Trainable params: 8,507,088\n",
            "Non-trainable params: 0\n",
            "_________________________________________________________________\n"
          ]
        }
      ]
    },
    {
      "cell_type": "code",
      "source": [
        "from tensorflow.keras.callbacks import EarlyStopping\n",
        "callback = EarlyStopping(monitor='accuracy', min_delta=0, patience=8, verbose=0, mode='auto')\n"
      ],
      "metadata": {
        "id": "NX4ApvV-2KNj"
      },
      "execution_count": 8,
      "outputs": []
    },
    {
      "cell_type": "code",
      "source": [
        "history = model.fit(xs, ys, epochs=100, verbose=1,callbacks=[callback])"
      ],
      "metadata": {
        "colab": {
          "base_uri": "https://localhost:8080/"
        },
        "id": "_JanpkCR2OLe",
        "outputId": "5b04a305-afbb-4c04-d713-664a9d5a7b7a"
      },
      "execution_count": 9,
      "outputs": [
        {
          "output_type": "stream",
          "name": "stdout",
          "text": [
            "Epoch 1/100\n",
            "377/377 [==============================] - 42s 49ms/step - loss: 6.7215 - accuracy: 0.0630\n",
            "Epoch 2/100\n",
            "377/377 [==============================] - 8s 21ms/step - loss: 6.2517 - accuracy: 0.0677\n",
            "Epoch 3/100\n",
            "377/377 [==============================] - 7s 20ms/step - loss: 6.0089 - accuracy: 0.0815\n",
            "Epoch 4/100\n",
            "377/377 [==============================] - 8s 21ms/step - loss: 5.7609 - accuracy: 0.0868\n",
            "Epoch 5/100\n",
            "377/377 [==============================] - 7s 20ms/step - loss: 5.5289 - accuracy: 0.0987\n",
            "Epoch 6/100\n",
            "377/377 [==============================] - 9s 24ms/step - loss: 5.3039 - accuracy: 0.1094\n",
            "Epoch 7/100\n",
            "377/377 [==============================] - 8s 21ms/step - loss: 5.0698 - accuracy: 0.1219\n",
            "Epoch 8/100\n",
            "377/377 [==============================] - 7s 19ms/step - loss: 4.8065 - accuracy: 0.1305\n",
            "Epoch 9/100\n",
            "377/377 [==============================] - 8s 20ms/step - loss: 4.5231 - accuracy: 0.1491\n",
            "Epoch 10/100\n",
            "377/377 [==============================] - 7s 19ms/step - loss: 4.2227 - accuracy: 0.1636\n",
            "Epoch 11/100\n",
            "377/377 [==============================] - 8s 21ms/step - loss: 3.9278 - accuracy: 0.1862\n",
            "Epoch 12/100\n",
            "377/377 [==============================] - 8s 22ms/step - loss: 3.6320 - accuracy: 0.2160\n",
            "Epoch 13/100\n",
            "377/377 [==============================] - 7s 19ms/step - loss: 3.3346 - accuracy: 0.2541\n",
            "Epoch 14/100\n",
            "377/377 [==============================] - 8s 21ms/step - loss: 3.0673 - accuracy: 0.2941\n",
            "Epoch 15/100\n",
            "377/377 [==============================] - 8s 20ms/step - loss: 2.7957 - accuracy: 0.3514\n",
            "Epoch 16/100\n",
            "377/377 [==============================] - 7s 19ms/step - loss: 2.5628 - accuracy: 0.3840\n",
            "Epoch 17/100\n",
            "377/377 [==============================] - 7s 20ms/step - loss: 2.3499 - accuracy: 0.4264\n",
            "Epoch 18/100\n",
            "377/377 [==============================] - 7s 19ms/step - loss: 2.1578 - accuracy: 0.4705\n",
            "Epoch 19/100\n",
            "377/377 [==============================] - 8s 20ms/step - loss: 1.9839 - accuracy: 0.5081\n",
            "Epoch 20/100\n",
            "377/377 [==============================] - 7s 20ms/step - loss: 1.8214 - accuracy: 0.5439\n",
            "Epoch 21/100\n",
            "377/377 [==============================] - 7s 18ms/step - loss: 1.6860 - accuracy: 0.5768\n",
            "Epoch 22/100\n",
            "377/377 [==============================] - 8s 20ms/step - loss: 1.6014 - accuracy: 0.6013\n",
            "Epoch 23/100\n",
            "377/377 [==============================] - 7s 18ms/step - loss: 1.4935 - accuracy: 0.6288\n",
            "Epoch 24/100\n",
            "377/377 [==============================] - 8s 20ms/step - loss: 1.3972 - accuracy: 0.6497\n",
            "Epoch 25/100\n",
            "377/377 [==============================] - 8s 20ms/step - loss: 1.3206 - accuracy: 0.6697\n",
            "Epoch 26/100\n",
            "377/377 [==============================] - 7s 18ms/step - loss: 1.2635 - accuracy: 0.6867\n",
            "Epoch 27/100\n",
            "377/377 [==============================] - 8s 20ms/step - loss: 1.2086 - accuracy: 0.6912\n",
            "Epoch 28/100\n",
            "377/377 [==============================] - 7s 18ms/step - loss: 1.1600 - accuracy: 0.7106\n",
            "Epoch 29/100\n",
            "377/377 [==============================] - 8s 20ms/step - loss: 1.1332 - accuracy: 0.7113\n",
            "Epoch 30/100\n",
            "377/377 [==============================] - 8s 20ms/step - loss: 1.0878 - accuracy: 0.7239\n",
            "Epoch 31/100\n",
            "377/377 [==============================] - 7s 18ms/step - loss: 1.0322 - accuracy: 0.7393\n",
            "Epoch 32/100\n",
            "377/377 [==============================] - 7s 20ms/step - loss: 1.0127 - accuracy: 0.7457\n",
            "Epoch 33/100\n",
            "377/377 [==============================] - 7s 19ms/step - loss: 0.9878 - accuracy: 0.7488\n",
            "Epoch 34/100\n",
            "377/377 [==============================] - 8s 20ms/step - loss: 0.9487 - accuracy: 0.7620\n",
            "Epoch 35/100\n",
            "377/377 [==============================] - 8s 20ms/step - loss: 0.8854 - accuracy: 0.7777\n",
            "Epoch 36/100\n",
            "377/377 [==============================] - 7s 18ms/step - loss: 0.8839 - accuracy: 0.7766\n",
            "Epoch 37/100\n",
            "377/377 [==============================] - 8s 20ms/step - loss: 0.9008 - accuracy: 0.7709\n",
            "Epoch 38/100\n",
            "377/377 [==============================] - 7s 19ms/step - loss: 0.8968 - accuracy: 0.7718\n",
            "Epoch 39/100\n",
            "377/377 [==============================] - 8s 21ms/step - loss: 0.8596 - accuracy: 0.7836\n",
            "Epoch 40/100\n",
            "377/377 [==============================] - 7s 20ms/step - loss: 0.8038 - accuracy: 0.7958\n",
            "Epoch 41/100\n",
            "377/377 [==============================] - 7s 19ms/step - loss: 0.7828 - accuracy: 0.8051\n",
            "Epoch 42/100\n",
            "377/377 [==============================] - 8s 20ms/step - loss: 0.8058 - accuracy: 0.7974\n",
            "Epoch 43/100\n",
            "377/377 [==============================] - 7s 18ms/step - loss: 0.8072 - accuracy: 0.7929\n",
            "Epoch 44/100\n",
            "377/377 [==============================] - 8s 20ms/step - loss: 0.7710 - accuracy: 0.8054\n",
            "Epoch 45/100\n",
            "377/377 [==============================] - 7s 20ms/step - loss: 0.7727 - accuracy: 0.7996\n",
            "Epoch 46/100\n",
            "377/377 [==============================] - 7s 18ms/step - loss: 0.7820 - accuracy: 0.7991\n",
            "Epoch 47/100\n",
            "377/377 [==============================] - 7s 20ms/step - loss: 0.7929 - accuracy: 0.7984\n",
            "Epoch 48/100\n",
            "377/377 [==============================] - 7s 18ms/step - loss: 0.8034 - accuracy: 0.7944\n",
            "Epoch 49/100\n",
            "377/377 [==============================] - 8s 20ms/step - loss: 0.7719 - accuracy: 0.7992\n",
            "Epoch 50/100\n",
            "377/377 [==============================] - 8s 20ms/step - loss: 0.7154 - accuracy: 0.8174\n",
            "Epoch 51/100\n",
            "377/377 [==============================] - 7s 19ms/step - loss: 0.6932 - accuracy: 0.8206\n",
            "Epoch 52/100\n",
            "377/377 [==============================] - 8s 20ms/step - loss: 0.7657 - accuracy: 0.8030\n",
            "Epoch 53/100\n",
            "377/377 [==============================] - 7s 18ms/step - loss: 0.7044 - accuracy: 0.8187\n",
            "Epoch 54/100\n",
            "377/377 [==============================] - 8s 20ms/step - loss: 0.6941 - accuracy: 0.8216\n",
            "Epoch 55/100\n",
            "377/377 [==============================] - 8s 20ms/step - loss: 0.6748 - accuracy: 0.8231\n",
            "Epoch 56/100\n",
            "377/377 [==============================] - 7s 18ms/step - loss: 0.7322 - accuracy: 0.8098\n",
            "Epoch 57/100\n",
            "377/377 [==============================] - 8s 20ms/step - loss: 0.7179 - accuracy: 0.8125\n",
            "Epoch 58/100\n",
            "377/377 [==============================] - 7s 18ms/step - loss: 0.7144 - accuracy: 0.8142\n",
            "Epoch 59/100\n",
            "377/377 [==============================] - 8s 20ms/step - loss: 0.7013 - accuracy: 0.8181\n",
            "Epoch 60/100\n",
            "377/377 [==============================] - 8s 20ms/step - loss: 0.6575 - accuracy: 0.8270\n",
            "Epoch 61/100\n",
            "377/377 [==============================] - 7s 18ms/step - loss: 0.6532 - accuracy: 0.8306\n",
            "Epoch 62/100\n",
            "377/377 [==============================] - 8s 20ms/step - loss: 0.6474 - accuracy: 0.8276\n",
            "Epoch 63/100\n",
            "377/377 [==============================] - 7s 18ms/step - loss: 0.6959 - accuracy: 0.8183\n",
            "Epoch 64/100\n",
            "377/377 [==============================] - 8s 21ms/step - loss: 0.7008 - accuracy: 0.8119\n",
            "Epoch 65/100\n",
            "377/377 [==============================] - 8s 20ms/step - loss: 0.6648 - accuracy: 0.8219\n",
            "Epoch 66/100\n",
            "377/377 [==============================] - 7s 19ms/step - loss: 0.6416 - accuracy: 0.8295\n",
            "Epoch 67/100\n",
            "377/377 [==============================] - 7s 20ms/step - loss: 0.6523 - accuracy: 0.8305\n",
            "Epoch 68/100\n",
            "377/377 [==============================] - 7s 18ms/step - loss: 0.6611 - accuracy: 0.8250\n",
            "Epoch 69/100\n",
            "377/377 [==============================] - 8s 20ms/step - loss: 0.6710 - accuracy: 0.8201\n"
          ]
        }
      ]
    },
    {
      "cell_type": "code",
      "source": [
        "print(model)"
      ],
      "metadata": {
        "colab": {
          "base_uri": "https://localhost:8080/"
        },
        "id": "aiIf8yO42QL1",
        "outputId": "057767ab-99ef-4a97-80a5-6b68c9a66158"
      },
      "execution_count": 10,
      "outputs": [
        {
          "output_type": "stream",
          "name": "stdout",
          "text": [
            "<keras.engine.sequential.Sequential object at 0x7f0002791f40>\n"
          ]
        }
      ]
    },
    {
      "cell_type": "code",
      "source": [
        "import matplotlib.pyplot as plt\n",
        "\n",
        "\n",
        "def plot_graphs(history, string):\n",
        "  plt.plot(history.history[string])\n",
        "  plt.xlabel(\"Epochs\")\n",
        "  plt.ylabel(string)\n",
        "  plt.show()"
      ],
      "metadata": {
        "id": "vb2pAVhT2RzK"
      },
      "execution_count": 11,
      "outputs": []
    },
    {
      "cell_type": "code",
      "source": [
        "plot_graphs(history, 'accuracy')\n"
      ],
      "metadata": {
        "colab": {
          "base_uri": "https://localhost:8080/",
          "height": 449
        },
        "id": "zVRLqJ3d5KGx",
        "outputId": "65ec2e19-3561-404f-ced8-66e21cd63790"
      },
      "execution_count": 12,
      "outputs": [
        {
          "output_type": "display_data",
          "data": {
            "text/plain": [
              "<Figure size 640x480 with 1 Axes>"
            ],
            "image/png": "[encoded data removed]"
          },
          "metadata": {}
        }
      ]
    },
    {
      "cell_type": "code",
      "source": [
        "\"\"\"seed_text = \"I've got a bad feeling about this\"\n",
        "next_words = 20\n",
        "  \n",
        "for _ in range(next_words):\n",
        "  token_list = tokenizer.texts_to_sequences([seed_text])[0]\n",
        "  token_list = pad_sequences([token_list], maxlen=max_sequence_len-1, padding='pre')\n",
        "  predicted = model.predict(token_list, verbose=0)\n",
        "  output_word = \"\"\n",
        "  #print(f\"these are the pred words {predicted}\")\n",
        "  for word, index in tokenizer.word_index.items():\n",
        "    #print(f\"these are ind {index}\")\n",
        "    if index in predicted:\n",
        "      output_word = word\n",
        "      break\n",
        "  seed_text += \" \" + output_word\n",
        "  \n",
        "print(seed_text)\n",
        "\"\"\""
      ],
      "metadata": {
        "colab": {
          "base_uri": "https://localhost:8080/",
          "height": 89
        },
        "id": "PYWBIssp5LzP",
        "outputId": "829d8689-84c8-4e40-dc98-ab2ae763ab98"
      },
      "execution_count": 13,
      "outputs": [
        {
          "output_type": "execute_result",
          "data": {
            "text/plain": [
              "'seed_text = \"I\\'ve got a bad feeling about this\"\\nnext_words = 20\\n  \\nfor _ in range(next_words):\\n  token_list = tokenizer.texts_to_sequences([seed_text])[0]\\n  token_list = pad_sequences([token_list], maxlen=max_sequence_len-1, padding=\\'pre\\')\\n  predicted = model.predict(token_list, verbose=0)\\n  output_word = \"\"\\n  #print(f\"these are the pred words {predicted}\")\\n  for word, index in tokenizer.word_index.items():\\n    #print(f\"these are ind {index}\")\\n    if index in predicted:\\n      output_word = word\\n      break\\n  seed_text += \" \" + output_word\\n  \\nprint(seed_text)\\n'"
            ],
            "application/vnd.google.colaboratory.intrinsic+json": {
              "type": "string"
            }
          },
          "metadata": {},
          "execution_count": 13
        }
      ]
    },
    {
      "cell_type": "code",
      "source": [
        "seed_text = \"I've got a bad feeling about this\"\n",
        "next_words = 35\n",
        "ouptut_text = \"\"\n",
        " \n",
        "for _ in range(next_words):\n",
        "    token_list = tokenizer.texts_to_sequences([seed_text])[0]\n",
        "    token_list = pad_sequences(\n",
        "        [token_list], maxlen=max_sequence_len-1,\n",
        "      padding='pre')\n",
        "    predicted = np.argmax(model.predict(token_list,\n",
        "                                        verbose=0), axis=-1)\n",
        "    output_word = \"\"\n",
        "     \n",
        "    for word, index in tokenizer.word_index.items():\n",
        "        if index == predicted:\n",
        "            output_word = word\n",
        "            break\n",
        "             \n",
        "    seed_text += \" \" + output_word\n",
        "     \n",
        "print(seed_text)"
      ],
      "metadata": {
        "colab": {
          "base_uri": "https://localhost:8080/"
        },
        "id": "pEunDi9k5Nvv",
        "outputId": "9af67227-a195-4f14-c3d8-5853a3da9d7d"
      },
      "execution_count": 15,
      "outputs": [
        {
          "output_type": "stream",
          "name": "stdout",
          "text": [
            "I've got a bad feeling about this mossy yet writin a sod my bride more more cry i more someone more more cry i cry more someone someone someone someone someone someone someone someone someone someone molly someone sinking someone straight someone\n"
          ]
        }
      ]
    },
    {
      "cell_type": "code",
      "source": [],
      "metadata": {
        "id": "Kzz-a13OwdgD"
      },
      "execution_count": 14,
      "outputs": []
    }
  ]
}